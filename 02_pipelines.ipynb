{
 "cells": [
  {
   "cell_type": "code",
   "execution_count": 4,
   "metadata": {},
   "outputs": [],
   "source": [
    "import numpy as np\n",
    "import pandas as pd"
   ]
  },
  {
   "cell_type": "code",
   "execution_count": 37,
   "metadata": {},
   "outputs": [],
   "source": [
    "df = pd.read_csv(\"dataset_1.csv\", index_col=0)"
   ]
  },
  {
   "cell_type": "code",
   "execution_count": 38,
   "metadata": {},
   "outputs": [],
   "source": [
    "def remove_negative_values(df, column):\n",
    "    df[column]=df[column].apply(lambda x: np.nan if x <0 else x)\n",
    "    return df"
   ]
  },
  {
   "cell_type": "code",
   "execution_count": 39,
   "metadata": {},
   "outputs": [],
   "source": [
    "def remove_outlines_with_zscore(df, column, threshold =2):\n",
    "    column_mean= df[column].mean()\n",
    "    column_std= df[column].std()\n",
    "    df[column] = df[column].mask(((df[column]-column_mean) / column_std).abs() > threshold)\n",
    "    return df"
   ]
  },
  {
   "cell_type": "code",
   "execution_count": 40,
   "metadata": {},
   "outputs": [],
   "source": [
    "def map_column_values(df, column, mapping_dict):\n",
    "    df[column] = df[column].apply(lambda value: mapping_dict.get(value, value))\n",
    "    return df"
   ]
  },
  {
   "cell_type": "code",
   "execution_count": 41,
   "metadata": {},
   "outputs": [],
   "source": [
    "def fill_na_in_column(df, column, fill_value):\n",
    "    df[column].fillna(fill_value, inplace=True)\n",
    "    return df"
   ]
  },
  {
   "cell_type": "code",
   "execution_count": 42,
   "metadata": {},
   "outputs": [],
   "source": [
    "def preprocess_data(df):\n",
    "    education_mapping={\n",
    "        \"Bachelors\": \"Bachelor\",\n",
    "        \"mastre\": \"Master\",\n",
    "        \"pHd\": \"PhD\",\n",
    "        \"no education\": \"None\"\n",
    "    }\n",
    "    gender_mapping = {\n",
    "        \"m\": \"M\",\n",
    "        \"f\": \"F\"\n",
    "    }\n",
    "    return(df.pipe(remove_negative_values, \"Edad\")\n",
    "           .pipe(remove_negative_values, \"Ingresos\")\n",
    "           .pipe(remove_negative_values, \"Hijos\")\n",
    "           .pipe(remove_outlines_with_zscore, \"Edad\")\n",
    "           .pipe(remove_outlines_with_zscore, \"Ingresos\")\n",
    "           .pipe(remove_outlines_with_zscore, \"Altura\")\n",
    "           .pipe(remove_outlines_with_zscore, \"Hijos\")\n",
    "           .pipe(map_column_values, \"Nivel_Educación\", education_mapping)\n",
    "           .pipe(map_column_values, \"Género\", gender_mapping)\n",
    "           .pipe(fill_na_in_column, \"Ciudad\", \"Desconocido\")\n",
    "           .pipe(fill_na_in_column, \"Nivel_Educación\", \"Desconocido\")\n",
    "           .pipe(fill_na_in_column, \"Género\", \"Desconocido\")\n",
    "           .pipe(fill_na_in_column, \"Edad\", df[\"Edad\"].median())\n",
    "           .pipe(fill_na_in_column, \"Hijos\", df[\"Hijos\"].median())\n",
    "           .pipe(fill_na_in_column, \"Ingresos\", df[\"Ingresos\"].mean())\n",
    "           .pipe(fill_na_in_column, \"Altura\", df[\"Altura\"].mean())\n",
    "           )\n"
   ]
  },
  {
   "cell_type": "code",
   "execution_count": 43,
   "metadata": {},
   "outputs": [
    {
     "name": "stdout",
     "output_type": "stream",
     "text": [
      "<class 'pandas.core.frame.DataFrame'>\n",
      "Index: 100000 entries, 0 to 99999\n",
      "Data columns (total 7 columns):\n",
      " #   Column           Non-Null Count   Dtype  \n",
      "---  ------           --------------   -----  \n",
      " 0   Edad             100000 non-null  int64  \n",
      " 1   Género           90000 non-null   object \n",
      " 2   Ingresos         100000 non-null  int64  \n",
      " 3   Altura           100000 non-null  float64\n",
      " 4   Ciudad           90000 non-null   object \n",
      " 5   Nivel_Educación  77563 non-null   object \n",
      " 6   Hijos            100000 non-null  int64  \n",
      "dtypes: float64(1), int64(3), object(3)\n",
      "memory usage: 6.1+ MB\n"
     ]
    }
   ],
   "source": [
    "df.info()"
   ]
  },
  {
   "cell_type": "code",
   "execution_count": 44,
   "metadata": {},
   "outputs": [
    {
     "name": "stderr",
     "output_type": "stream",
     "text": [
      "C:\\Users\\Eddy.Arias\\AppData\\Local\\Temp\\ipykernel_24220\\742666772.py:2: FutureWarning: A value is trying to be set on a copy of a DataFrame or Series through chained assignment using an inplace method.\n",
      "The behavior will change in pandas 3.0. This inplace method will never work because the intermediate object on which we are setting values always behaves as a copy.\n",
      "\n",
      "For example, when doing 'df[col].method(value, inplace=True)', try using 'df.method({col: value}, inplace=True)' or df[col] = df[col].method(value) instead, to perform the operation inplace on the original object.\n",
      "\n",
      "\n",
      "  df[column].fillna(fill_value, inplace=True)\n"
     ]
    }
   ],
   "source": [
    "df = preprocess_data(df)"
   ]
  },
  {
   "cell_type": "code",
   "execution_count": 46,
   "metadata": {},
   "outputs": [
    {
     "name": "stdout",
     "output_type": "stream",
     "text": [
      "<class 'pandas.core.frame.DataFrame'>\n",
      "Index: 100000 entries, 0 to 99999\n",
      "Data columns (total 7 columns):\n",
      " #   Column           Non-Null Count   Dtype  \n",
      "---  ------           --------------   -----  \n",
      " 0   Edad             100000 non-null  float64\n",
      " 1   Género           100000 non-null  object \n",
      " 2   Ingresos         100000 non-null  float64\n",
      " 3   Altura           100000 non-null  float64\n",
      " 4   Ciudad           100000 non-null  object \n",
      " 5   Nivel_Educación  100000 non-null  object \n",
      " 6   Hijos            100000 non-null  float64\n",
      "dtypes: float64(4), object(3)\n",
      "memory usage: 6.1+ MB\n"
     ]
    }
   ],
   "source": [
    "df.info()"
   ]
  },
  {
   "cell_type": "code",
   "execution_count": null,
   "metadata": {},
   "outputs": [],
   "source": []
  }
 ],
 "metadata": {
  "kernelspec": {
   "display_name": "Python 3",
   "language": "python",
   "name": "python3"
  },
  "language_info": {
   "codemirror_mode": {
    "name": "ipython",
    "version": 3
   },
   "file_extension": ".py",
   "mimetype": "text/x-python",
   "name": "python",
   "nbconvert_exporter": "python",
   "pygments_lexer": "ipython3",
   "version": "3.12.4"
  }
 },
 "nbformat": 4,
 "nbformat_minor": 2
}
