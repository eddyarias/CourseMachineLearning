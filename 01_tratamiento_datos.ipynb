{
 "cells": [
  {
   "cell_type": "code",
   "execution_count": 1,
   "metadata": {},
   "outputs": [],
   "source": [
    "import pandas as pd\n",
    "import numpy as np"
   ]
  },
  {
   "cell_type": "code",
   "execution_count": 3,
   "metadata": {},
   "outputs": [],
   "source": [
    "df = pd.read_csv(\"dataset_1.csv\", index_col=0) #0 indica que la primera columna del archivo CSV será utilizada como el índice del data frame es la numeración de la tupla xD"
   ]
  },
  {
   "cell_type": "code",
   "execution_count": 4,
   "metadata": {},
   "outputs": [
    {
     "data": {
      "text/html": [
       "<div>\n",
       "<style scoped>\n",
       "    .dataframe tbody tr th:only-of-type {\n",
       "        vertical-align: middle;\n",
       "    }\n",
       "\n",
       "    .dataframe tbody tr th {\n",
       "        vertical-align: top;\n",
       "    }\n",
       "\n",
       "    .dataframe thead th {\n",
       "        text-align: right;\n",
       "    }\n",
       "</style>\n",
       "<table border=\"1\" class=\"dataframe\">\n",
       "  <thead>\n",
       "    <tr style=\"text-align: right;\">\n",
       "      <th></th>\n",
       "      <th>Edad</th>\n",
       "      <th>Género</th>\n",
       "      <th>Ingresos</th>\n",
       "      <th>Altura</th>\n",
       "      <th>Ciudad</th>\n",
       "      <th>Nivel_Educación</th>\n",
       "      <th>Hijos</th>\n",
       "    </tr>\n",
       "  </thead>\n",
       "  <tbody>\n",
       "    <tr>\n",
       "      <th>0</th>\n",
       "      <td>82</td>\n",
       "      <td>F</td>\n",
       "      <td>62297</td>\n",
       "      <td>1.96</td>\n",
       "      <td>Phoenix</td>\n",
       "      <td>NaN</td>\n",
       "      <td>0</td>\n",
       "    </tr>\n",
       "    <tr>\n",
       "      <th>1</th>\n",
       "      <td>15</td>\n",
       "      <td>F</td>\n",
       "      <td>38674</td>\n",
       "      <td>1.83</td>\n",
       "      <td>New York</td>\n",
       "      <td>PhD</td>\n",
       "      <td>4</td>\n",
       "    </tr>\n",
       "    <tr>\n",
       "      <th>2</th>\n",
       "      <td>166</td>\n",
       "      <td>NaN</td>\n",
       "      <td>-1886</td>\n",
       "      <td>1.87</td>\n",
       "      <td>NaN</td>\n",
       "      <td>Bachelors</td>\n",
       "      <td>-5</td>\n",
       "    </tr>\n",
       "    <tr>\n",
       "      <th>3</th>\n",
       "      <td>95</td>\n",
       "      <td>M</td>\n",
       "      <td>29759</td>\n",
       "      <td>1.77</td>\n",
       "      <td>Chicago</td>\n",
       "      <td>PhD</td>\n",
       "      <td>4</td>\n",
       "    </tr>\n",
       "    <tr>\n",
       "      <th>4</th>\n",
       "      <td>36</td>\n",
       "      <td>M</td>\n",
       "      <td>99938</td>\n",
       "      <td>1.78</td>\n",
       "      <td>Phoenix</td>\n",
       "      <td>PhD</td>\n",
       "      <td>5</td>\n",
       "    </tr>\n",
       "    <tr>\n",
       "      <th>...</th>\n",
       "      <td>...</td>\n",
       "      <td>...</td>\n",
       "      <td>...</td>\n",
       "      <td>...</td>\n",
       "      <td>...</td>\n",
       "      <td>...</td>\n",
       "      <td>...</td>\n",
       "    </tr>\n",
       "    <tr>\n",
       "      <th>99995</th>\n",
       "      <td>65</td>\n",
       "      <td>M</td>\n",
       "      <td>62403</td>\n",
       "      <td>1.95</td>\n",
       "      <td>Houston</td>\n",
       "      <td>NaN</td>\n",
       "      <td>1</td>\n",
       "    </tr>\n",
       "    <tr>\n",
       "      <th>99996</th>\n",
       "      <td>74</td>\n",
       "      <td>F</td>\n",
       "      <td>29457</td>\n",
       "      <td>1.81</td>\n",
       "      <td>New York</td>\n",
       "      <td>Master</td>\n",
       "      <td>3</td>\n",
       "    </tr>\n",
       "    <tr>\n",
       "      <th>99997</th>\n",
       "      <td>27</td>\n",
       "      <td>M</td>\n",
       "      <td>48147</td>\n",
       "      <td>1.88</td>\n",
       "      <td>Houston</td>\n",
       "      <td>Master</td>\n",
       "      <td>5</td>\n",
       "    </tr>\n",
       "    <tr>\n",
       "      <th>99998</th>\n",
       "      <td>39</td>\n",
       "      <td>M</td>\n",
       "      <td>92826</td>\n",
       "      <td>1.82</td>\n",
       "      <td>New York</td>\n",
       "      <td>NaN</td>\n",
       "      <td>2</td>\n",
       "    </tr>\n",
       "    <tr>\n",
       "      <th>99999</th>\n",
       "      <td>62</td>\n",
       "      <td>M</td>\n",
       "      <td>74762</td>\n",
       "      <td>1.90</td>\n",
       "      <td>Houston</td>\n",
       "      <td>PhD</td>\n",
       "      <td>3</td>\n",
       "    </tr>\n",
       "  </tbody>\n",
       "</table>\n",
       "<p>100000 rows × 7 columns</p>\n",
       "</div>"
      ],
      "text/plain": [
       "       Edad Género  Ingresos  Altura    Ciudad Nivel_Educación  Hijos\n",
       "0        82      F     62297    1.96   Phoenix             NaN      0\n",
       "1        15      F     38674    1.83  New York             PhD      4\n",
       "2       166    NaN     -1886    1.87       NaN       Bachelors     -5\n",
       "3        95      M     29759    1.77   Chicago             PhD      4\n",
       "4        36      M     99938    1.78   Phoenix             PhD      5\n",
       "...     ...    ...       ...     ...       ...             ...    ...\n",
       "99995    65      M     62403    1.95   Houston             NaN      1\n",
       "99996    74      F     29457    1.81  New York          Master      3\n",
       "99997    27      M     48147    1.88   Houston          Master      5\n",
       "99998    39      M     92826    1.82  New York             NaN      2\n",
       "99999    62      M     74762    1.90   Houston             PhD      3\n",
       "\n",
       "[100000 rows x 7 columns]"
      ]
     },
     "execution_count": 4,
     "metadata": {},
     "output_type": "execute_result"
    }
   ],
   "source": [
    "df #Ver el data frame"
   ]
  },
  {
   "cell_type": "code",
   "execution_count": 5,
   "metadata": {},
   "outputs": [
    {
     "data": {
      "text/html": [
       "<div>\n",
       "<style scoped>\n",
       "    .dataframe tbody tr th:only-of-type {\n",
       "        vertical-align: middle;\n",
       "    }\n",
       "\n",
       "    .dataframe tbody tr th {\n",
       "        vertical-align: top;\n",
       "    }\n",
       "\n",
       "    .dataframe thead th {\n",
       "        text-align: right;\n",
       "    }\n",
       "</style>\n",
       "<table border=\"1\" class=\"dataframe\">\n",
       "  <thead>\n",
       "    <tr style=\"text-align: right;\">\n",
       "      <th></th>\n",
       "      <th>Edad</th>\n",
       "      <th>Ingresos</th>\n",
       "      <th>Altura</th>\n",
       "      <th>Hijos</th>\n",
       "    </tr>\n",
       "  </thead>\n",
       "  <tbody>\n",
       "    <tr>\n",
       "      <th>count</th>\n",
       "      <td>100000.000000</td>\n",
       "      <td>100000.000000</td>\n",
       "      <td>100000.000000</td>\n",
       "      <td>100000.000000</td>\n",
       "    </tr>\n",
       "    <tr>\n",
       "      <th>mean</th>\n",
       "      <td>53.931110</td>\n",
       "      <td>62590.579040</td>\n",
       "      <td>1.749618</td>\n",
       "      <td>1.941560</td>\n",
       "    </tr>\n",
       "    <tr>\n",
       "      <th>std</th>\n",
       "      <td>40.980893</td>\n",
       "      <td>36529.619354</td>\n",
       "      <td>0.144122</td>\n",
       "      <td>2.353844</td>\n",
       "    </tr>\n",
       "    <tr>\n",
       "      <th>min</th>\n",
       "      <td>-10.000000</td>\n",
       "      <td>-2000.000000</td>\n",
       "      <td>1.500000</td>\n",
       "      <td>-5.000000</td>\n",
       "    </tr>\n",
       "    <tr>\n",
       "      <th>25%</th>\n",
       "      <td>23.000000</td>\n",
       "      <td>37658.750000</td>\n",
       "      <td>1.630000</td>\n",
       "      <td>0.000000</td>\n",
       "    </tr>\n",
       "    <tr>\n",
       "      <th>50%</th>\n",
       "      <td>51.000000</td>\n",
       "      <td>59832.000000</td>\n",
       "      <td>1.750000</td>\n",
       "      <td>2.000000</td>\n",
       "    </tr>\n",
       "    <tr>\n",
       "      <th>75%</th>\n",
       "      <td>78.000000</td>\n",
       "      <td>82207.250000</td>\n",
       "      <td>1.870000</td>\n",
       "      <td>4.000000</td>\n",
       "    </tr>\n",
       "    <tr>\n",
       "      <th>max</th>\n",
       "      <td>200.000000</td>\n",
       "      <td>199994.000000</td>\n",
       "      <td>2.000000</td>\n",
       "      <td>5.000000</td>\n",
       "    </tr>\n",
       "  </tbody>\n",
       "</table>\n",
       "</div>"
      ],
      "text/plain": [
       "                Edad       Ingresos         Altura          Hijos\n",
       "count  100000.000000  100000.000000  100000.000000  100000.000000\n",
       "mean       53.931110   62590.579040       1.749618       1.941560\n",
       "std        40.980893   36529.619354       0.144122       2.353844\n",
       "min       -10.000000   -2000.000000       1.500000      -5.000000\n",
       "25%        23.000000   37658.750000       1.630000       0.000000\n",
       "50%        51.000000   59832.000000       1.750000       2.000000\n",
       "75%        78.000000   82207.250000       1.870000       4.000000\n",
       "max       200.000000  199994.000000       2.000000       5.000000"
      ]
     },
     "execution_count": 5,
     "metadata": {},
     "output_type": "execute_result"
    }
   ],
   "source": [
    "df.describe()  # Generar estadisticas descriptivas"
   ]
  },
  {
   "cell_type": "code",
   "execution_count": 6,
   "metadata": {},
   "outputs": [
    {
     "name": "stdout",
     "output_type": "stream",
     "text": [
      "<class 'pandas.core.frame.DataFrame'>\n",
      "Index: 100000 entries, 0 to 99999\n",
      "Data columns (total 7 columns):\n",
      " #   Column           Non-Null Count   Dtype  \n",
      "---  ------           --------------   -----  \n",
      " 0   Edad             100000 non-null  int64  \n",
      " 1   Género           90000 non-null   object \n",
      " 2   Ingresos         100000 non-null  int64  \n",
      " 3   Altura           100000 non-null  float64\n",
      " 4   Ciudad           90000 non-null   object \n",
      " 5   Nivel_Educación  77563 non-null   object \n",
      " 6   Hijos            100000 non-null  int64  \n",
      "dtypes: float64(1), int64(3), object(3)\n",
      "memory usage: 6.1+ MB\n"
     ]
    }
   ],
   "source": [
    "df.info() #Generar resumen del dataframe"
   ]
  },
  {
   "cell_type": "code",
   "execution_count": 10,
   "metadata": {},
   "outputs": [],
   "source": [
    "set_gen = set(df[\"Género\"].to_list())  #Sacar los valores que toma la columna Género\n",
    "set_edu = set(df[\"Nivel_Educación\"].to_list())\n",
    "set_cui = set(df[\"Ciudad\"].to_list())"
   ]
  },
  {
   "cell_type": "code",
   "execution_count": 13,
   "metadata": {},
   "outputs": [
    {
     "data": {
      "text/plain": [
       "{'F', 'M', nan}"
      ]
     },
     "execution_count": 13,
     "metadata": {},
     "output_type": "execute_result"
    }
   ],
   "source": [
    "set_gen # los valores de la columna genero tiene F, M y nan Xd"
   ]
  },
  {
   "cell_type": "code",
   "execution_count": 14,
   "metadata": {},
   "outputs": [
    {
     "data": {
      "text/plain": [
       "{'Bachelor',\n",
       " 'Bachelors',\n",
       " 'Master',\n",
       " 'PhD',\n",
       " 'mastre',\n",
       " nan,\n",
       " 'no education',\n",
       " 'pHd'}"
      ]
     },
     "execution_count": 14,
     "metadata": {},
     "output_type": "execute_result"
    }
   ],
   "source": [
    "set_edu"
   ]
  },
  {
   "cell_type": "code",
   "execution_count": 15,
   "metadata": {},
   "outputs": [
    {
     "data": {
      "text/plain": [
       "{'Chicago', 'Houston', 'Los Angeles', 'New York', 'Phoenix', nan}"
      ]
     },
     "execution_count": 15,
     "metadata": {},
     "output_type": "execute_result"
    }
   ],
   "source": [
    "set_cui"
   ]
  },
  {
   "cell_type": "code",
   "execution_count": 17,
   "metadata": {},
   "outputs": [
    {
     "data": {
      "text/plain": [
       "{'F', 'M', nan}"
      ]
     },
     "execution_count": 17,
     "metadata": {},
     "output_type": "execute_result"
    }
   ],
   "source": [
    "set_gen = set(df[\"Género\"].to_list())\n"
   ]
  },
  {
   "cell_type": "code",
   "execution_count": 18,
   "metadata": {},
   "outputs": [],
   "source": [
    "# Tratamiento de valores negativos\n",
    "df[\"Edad\"]= df[\"Edad\"].apply(lambda x: np.nan if x < 0 else x)\n",
    "df[\"Ingresos\"] = df[\"Ingresos\"].apply(lambda x: np.nan if x < 0 else x)\n",
    "df[\"Hijos\"] = df[\"Hijos\"].apply(lambda x: np.nan if x < 0 else x)\n"
   ]
  },
  {
   "cell_type": "code",
   "execution_count": 20,
   "metadata": {},
   "outputs": [
    {
     "name": "stderr",
     "output_type": "stream",
     "text": [
      "C:\\Users\\Eddy.Arias\\AppData\\Local\\Temp\\ipykernel_12264\\1513661573.py:4: FutureWarning: A value is trying to be set on a copy of a DataFrame or Series through chained assignment using an inplace method.\n",
      "The behavior will change in pandas 3.0. This inplace method will never work because the intermediate object on which we are setting values always behaves as a copy.\n",
      "\n",
      "For example, when doing 'df[col].method(value, inplace=True)', try using 'df.method({col: value}, inplace=True)' or df[col] = df[col].method(value) instead, to perform the operation inplace on the original object.\n",
      "\n",
      "\n",
      "  df[column].fillna(median_value, inplace=True)\n",
      "C:\\Users\\Eddy.Arias\\AppData\\Local\\Temp\\ipykernel_12264\\1513661573.py:8: FutureWarning: A value is trying to be set on a copy of a DataFrame or Series through chained assignment using an inplace method.\n",
      "The behavior will change in pandas 3.0. This inplace method will never work because the intermediate object on which we are setting values always behaves as a copy.\n",
      "\n",
      "For example, when doing 'df[col].method(value, inplace=True)', try using 'df.method({col: value}, inplace=True)' or df[col] = df[col].method(value) instead, to perform the operation inplace on the original object.\n",
      "\n",
      "\n",
      "  df[column].fillna(mode_value, inplace=True)\n"
     ]
    }
   ],
   "source": [
    "# Imputar valores valtantes\n",
    "for column in [\"Edad\", \"Ingresos\", \"Hijos\"]:\n",
    "    median_value = df[column].median()\n",
    "    df[column].fillna(median_value, inplace=True)\n",
    "\n",
    "for column in [\"Género\", \"Ciudad\"]:\n",
    "    mode_value = df[column].mode()[0]  # 0 es el valor 1 es cuantas veces se repite\n",
    "    df[column].fillna(mode_value, inplace=True)"
   ]
  },
  {
   "cell_type": "code",
   "execution_count": 21,
   "metadata": {},
   "outputs": [
    {
     "name": "stderr",
     "output_type": "stream",
     "text": [
      "C:\\Users\\Eddy.Arias\\AppData\\Local\\Temp\\ipykernel_12264\\3156764742.py:9: FutureWarning: A value is trying to be set on a copy of a DataFrame or Series through chained assignment using an inplace method.\n",
      "The behavior will change in pandas 3.0. This inplace method will never work because the intermediate object on which we are setting values always behaves as a copy.\n",
      "\n",
      "For example, when doing 'df[col].method(value, inplace=True)', try using 'df.method({col: value}, inplace=True)' or df[col] = df[col].method(value) instead, to perform the operation inplace on the original object.\n",
      "\n",
      "\n",
      "  df[\"Nivel_Educación\"].replace(education_mapping, inplace=True)\n"
     ]
    }
   ],
   "source": [
    "# Mapeo de datos \n",
    "education_mapping={\n",
    "    \"Bachelors\": \"Bachelor\",\n",
    "    \"mastre\": \"Master\",\n",
    "    \"pHd\": \"PhD\",\n",
    "    \"no education\": \"None\"\n",
    "}\n",
    "\n",
    "df[\"Nivel_Educación\"].replace(education_mapping, inplace=True)\n",
    "df[\"Nivel_Educación\"].fillna(\"NUe\", inplace=True)\n"
   ]
  },
  {
   "cell_type": "code",
   "execution_count": 22,
   "metadata": {},
   "outputs": [],
   "source": [
    "#Casteo de tipos\n",
    "df[\"Edad\"] = df[\"Edad\"].astype(int)\n",
    "df[\"Hijos\"] = df[\"Hijos\"].astype(int)\n",
    "df[\"Ingresos\"] = df[\"Ingresos\"].astype(float)\n",
    "df[\"Altura\"] = df[\"Altura\"].astype(float)\n"
   ]
  },
  {
   "cell_type": "code",
   "execution_count": 25,
   "metadata": {},
   "outputs": [
    {
     "name": "stdout",
     "output_type": "stream",
     "text": [
      "<class 'pandas.core.frame.DataFrame'>\n",
      "Index: 100000 entries, 0 to 99999\n",
      "Data columns (total 7 columns):\n",
      " #   Column           Non-Null Count   Dtype  \n",
      "---  ------           --------------   -----  \n",
      " 0   Edad             100000 non-null  int32  \n",
      " 1   Género           100000 non-null  object \n",
      " 2   Ingresos         100000 non-null  float64\n",
      " 3   Altura           100000 non-null  float64\n",
      " 4   Ciudad           100000 non-null  object \n",
      " 5   Nivel_Educación  77563 non-null   object \n",
      " 6   Hijos            100000 non-null  int32  \n",
      "dtypes: float64(2), int32(2), object(3)\n",
      "memory usage: 5.3+ MB\n"
     ]
    }
   ],
   "source": [
    "df.info()"
   ]
  },
  {
   "cell_type": "code",
   "execution_count": 24,
   "metadata": {},
   "outputs": [
    {
     "data": {
      "text/plain": [
       "{'Bachelor', 'Master', 'None', 'PhD', nan}"
      ]
     },
     "execution_count": 24,
     "metadata": {},
     "output_type": "execute_result"
    }
   ],
   "source": [
    "set(df[\"Nivel_Educación\"].to_list())"
   ]
  },
  {
   "cell_type": "code",
   "execution_count": 26,
   "metadata": {},
   "outputs": [
    {
     "name": "stderr",
     "output_type": "stream",
     "text": [
      "C:\\Users\\Eddy.Arias\\AppData\\Local\\Temp\\ipykernel_12264\\1092713520.py:1: FutureWarning: A value is trying to be set on a copy of a DataFrame or Series through chained assignment using an inplace method.\n",
      "The behavior will change in pandas 3.0. This inplace method will never work because the intermediate object on which we are setting values always behaves as a copy.\n",
      "\n",
      "For example, when doing 'df[col].method(value, inplace=True)', try using 'df.method({col: value}, inplace=True)' or df[col] = df[col].method(value) instead, to perform the operation inplace on the original object.\n",
      "\n",
      "\n",
      "  df[\"Nivel_Educación\"].fillna(\"NE\", inplace=True)\n"
     ]
    }
   ],
   "source": [
    "df[\"Nivel_Educación\"].fillna(\"NE\", inplace=True)\n"
   ]
  },
  {
   "cell_type": "code",
   "execution_count": 27,
   "metadata": {},
   "outputs": [
    {
     "name": "stdout",
     "output_type": "stream",
     "text": [
      "<class 'pandas.core.frame.DataFrame'>\n",
      "Index: 100000 entries, 0 to 99999\n",
      "Data columns (total 7 columns):\n",
      " #   Column           Non-Null Count   Dtype  \n",
      "---  ------           --------------   -----  \n",
      " 0   Edad             100000 non-null  int32  \n",
      " 1   Género           100000 non-null  object \n",
      " 2   Ingresos         100000 non-null  float64\n",
      " 3   Altura           100000 non-null  float64\n",
      " 4   Ciudad           100000 non-null  object \n",
      " 5   Nivel_Educación  100000 non-null  object \n",
      " 6   Hijos            100000 non-null  int32  \n",
      "dtypes: float64(2), int32(2), object(3)\n",
      "memory usage: 5.3+ MB\n"
     ]
    }
   ],
   "source": [
    "df.info()"
   ]
  },
  {
   "cell_type": "code",
   "execution_count": null,
   "metadata": {},
   "outputs": [],
   "source": []
  }
 ],
 "metadata": {
  "kernelspec": {
   "display_name": "Python 3",
   "language": "python",
   "name": "python3"
  },
  "language_info": {
   "codemirror_mode": {
    "name": "ipython",
    "version": 3
   },
   "file_extension": ".py",
   "mimetype": "text/x-python",
   "name": "python",
   "nbconvert_exporter": "python",
   "pygments_lexer": "ipython3",
   "version": "3.12.4"
  }
 },
 "nbformat": 4,
 "nbformat_minor": 2
}
